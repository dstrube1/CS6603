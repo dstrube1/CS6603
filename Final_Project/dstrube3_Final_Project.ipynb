{
 "cells": [
  {
   "cell_type": "code",
   "execution_count": 8,
   "id": "3fae55c1",
   "metadata": {},
   "outputs": [
    {
     "name": "stdout",
     "output_type": "stream",
     "text": [
      "Step 1:\n",
      "● Which dataset did you select?\n",
      "\n",
      "● Which regulated domain does your dataset belong to?\n",
      "\n",
      "● How many observations are in the dataset?\n",
      "\n",
      "● How many variables are in the dataset?\n",
      "\n",
      "● Which variables did you select as your dependent variables?\n",
      "\n",
      "● How many and which variables in the dataset are associated with a legally recognized protected class?\n",
      "\tWhich legal precedence/law (as discussed in the lectures) does each protected class fall under?\n",
      "\n"
     ]
    }
   ],
   "source": [
    "'''\n",
    "CS6603 Final Project\n",
    "\n",
    "Team members:\n",
    "Brad Dunham (dunhambrad7@gmail.com)\n",
    "David Strube (dstrube3@gatech.edu)\n",
    "Brian Chung (bchung41@gatech.edu)\n",
    "Ilyass Sfar (isfar3@gatech.edu)\n",
    "\n",
    "Dataset (not in this list: https://docs.google.com/spreadsheets/d/12u_VryQu3aR4-sFkPEo1Sg3x92IhbpxQLjmN5KiDs_o/edit#gid=0):\n",
    "From here:\n",
    "https://archive.ics.uci.edu/ml/index.php\n",
    "or here:\n",
    "https://www.kaggle.com/datasets\n",
    "\n",
    "Credit, Education, Employment, or Housing and ‘Public Accommodation’\n",
    "\n",
    "'''\n",
    "print('Step 1:')\n",
    "print('● Which dataset did you select?')\n",
    "print()\n",
    "#print(dataset_name)\n",
    "\n",
    "print('● Which regulated domain does your dataset belong to?')\n",
    "print()\n",
    "#print(regulated_domain)\n",
    "\n",
    "print('● How many observations are in the dataset?')\n",
    "print()\n",
    "#print(num_observations)\n",
    "\n",
    "print('● How many variables are in the dataset?')\n",
    "print()\n",
    "#print(num_variables)\n",
    "\n",
    "print('● Which variables did you select as your dependent variables?')\n",
    "print()\n",
    "#print(dependent_variables)\n",
    "\n",
    "print('● How many and which variables in the dataset are associated with a legally recognized protected class?') \n",
    "print('\\tWhich legal precedence/law (as discussed in the lectures) does each protected class fall under?')\n",
    "print()\n",
    "#print(num_protected_class_vars)\n",
    "#print(protected_class_vars)\n",
    "#print(precedence)\n",
    "#^^^better to do these in a table\n"
   ]
  },
  {
   "cell_type": "code",
   "execution_count": 9,
   "id": "965b30f2",
   "metadata": {},
   "outputs": [
    {
     "name": "stdout",
     "output_type": "stream",
     "text": [
      "Step 2:\n",
      "● Table documenting the relationship between members and membership categories for each protected class variable\n",
      "\t(from Step 2.1)\n",
      "\n",
      "● Table documenting the relationship between values and discrete categories/numerical values associated with your\n",
      "\tdependent variables (from Step 2.2)\n",
      "\n",
      "● Table providing the computed frequency values for the membership categories each protected class variable\n",
      "\t(from Step 2.3)\n",
      "\n",
      "● Histograms derived from Step 2.4\n",
      "\n"
     ]
    }
   ],
   "source": [
    "print('Step 2:')\n",
    "\n",
    "print('● Table documenting the relationship between members and membership categories for each protected class variable')\n",
    "print('\\t(from Step 2.1)')\n",
    "print()\n",
    "\n",
    "print('● Table documenting the relationship between values and discrete categories/numerical values associated with your')\n",
    "print('\\tdependent variables (from Step 2.2)')\n",
    "print()\n",
    "\n",
    "print('● Table providing the computed frequency values for the membership categories each protected class variable') \n",
    "print('\\t(from Step 2.3)')\n",
    "print()\n",
    "\n",
    "print('● Histograms derived from Step 2.4')\n",
    "print()\n",
    "#'''\n"
   ]
  },
  {
   "cell_type": "code",
   "execution_count": 19,
   "id": "107440dc",
   "metadata": {},
   "outputs": [
    {
     "name": "stdout",
     "output_type": "stream",
     "text": [
      "Step 3:\n",
      "● Table documenting the protected class variable selected, the privileged/unprivileged groups/values, the \n",
      "\tpre-processing bias mitigation function selected, and the fairness metrics/resulting values computed in \n",
      "\tStep 3.2 and Step 3.4\n",
      "\n"
     ]
    }
   ],
   "source": [
    "print('Step 3:')\n",
    "\n",
    "print('● Table documenting the protected class variable selected, the privileged/unprivileged groups/values, the ')\n",
    "print('\\tpre-processing bias mitigation function selected, and the fairness metrics/resulting values computed in ')\n",
    "print('\\tStep 3.2 and Step 3.4')\n",
    "print()\n"
   ]
  },
  {
   "cell_type": "code",
   "execution_count": 13,
   "id": "3431000f",
   "metadata": {},
   "outputs": [
    {
     "name": "stdout",
     "output_type": "stream",
     "text": [
      "Step 4:\n",
      "Option \n"
     ]
    }
   ],
   "source": [
    "print('Step 4:')\n",
    "print('Option ') #A or B?"
   ]
  },
  {
   "cell_type": "code",
   "execution_count": 17,
   "id": "244e85b0",
   "metadata": {},
   "outputs": [
    {
     "name": "stdout",
     "output_type": "stream",
     "text": [
      "Step 5:\n",
      "Team members:\n",
      "Brad Dunham (dunhambrad7@gmail.com)\n",
      "David Strube (dstrube3@gatech.edu)\n",
      "Brian Chung (bchung41@gatech.edu)\n",
      "??? Ilyass Sfar (isfar3@gatech.edu) ???\n",
      "\n",
      "Brad Dunham (dunhambrad7@gmail.com): \n",
      "Did any of these approaches seem to work to mitigate bias (or increase fairness)? ### Explain your reasoning. Did any group receive a positive advantage? ### Was any group disadvantaged by these approaches? ### What issues would arise if I used these methods to mitigate bias? ###\n",
      "\n",
      "David Strube (dstrube3@gatech.edu): \n",
      "Did any of these approaches seem to work to mitigate bias (or increase fairness)? ### Explain your reasoning. Did any group receive a positive advantage? ### Was any group disadvantaged by these approaches? ### What issues would arise if I used these methods to mitigate bias? ###\n",
      "\n",
      "Brian Chung (bchung41@gatech.edu): \n",
      "Did any of these approaches seem to work to mitigate bias (or increase fairness)? ### Explain your reasoning. Did any group receive a positive advantage? ### Was any group disadvantaged by these approaches? ### What issues would arise if I used these methods to mitigate bias? ###\n",
      "\n",
      "Ilyass Sfar (isfar3@gatech.edu): \n",
      "No Response\n",
      "\n"
     ]
    }
   ],
   "source": [
    "print('Step 5:')\n",
    "print('''Team members:\n",
    "Brad Dunham (dunhambrad7@gmail.com)\n",
    "David Strube (dstrube3@gatech.edu)\n",
    "Brian Chung (bchung41@gatech.edu)\n",
    "??? Ilyass Sfar (isfar3@gatech.edu) ???\n",
    "''')\n",
    "\n",
    "print('Brad Dunham (dunhambrad7@gmail.com): ')\n",
    "print('Did any of these approaches seem to work to mitigate bias (or increase fairness)? ### Explain your reasoning. Did any group receive a positive advantage? ### Was any group disadvantaged by these approaches? ### What issues would arise if I used these methods to mitigate bias? ###')\n",
    "print()\n",
    "\n",
    "print('David Strube (dstrube3@gatech.edu): ')\n",
    "print('Did any of these approaches seem to work to mitigate bias (or increase fairness)? ### Explain your reasoning. Did any group receive a positive advantage? ### Was any group disadvantaged by these approaches? ### What issues would arise if I used these methods to mitigate bias? ###')\n",
    "print()\n",
    "\n",
    "print('Brian Chung (bchung41@gatech.edu): ')\n",
    "print('Did any of these approaches seem to work to mitigate bias (or increase fairness)? ### Explain your reasoning. Did any group receive a positive advantage? ### Was any group disadvantaged by these approaches? ### What issues would arise if I used these methods to mitigate bias? ###')\n",
    "print()\n",
    "\n",
    "print('Ilyass Sfar (isfar3@gatech.edu): ')\n",
    "print('No Response')\n",
    "print()"
   ]
  },
  {
   "cell_type": "code",
   "execution_count": null,
   "id": "f5fc5b35",
   "metadata": {},
   "outputs": [],
   "source": []
  }
 ],
 "metadata": {
  "kernelspec": {
   "display_name": "Python 3 (ipykernel)",
   "language": "python",
   "name": "python3"
  },
  "language_info": {
   "codemirror_mode": {
    "name": "ipython",
    "version": 3
   },
   "file_extension": ".py",
   "mimetype": "text/x-python",
   "name": "python",
   "nbconvert_exporter": "python",
   "pygments_lexer": "ipython3",
   "version": "3.9.5"
  }
 },
 "nbformat": 4,
 "nbformat_minor": 5
}
